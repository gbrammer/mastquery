{
 "cells": [
  {
   "cell_type": "markdown",
   "id": "9ebbc39a",
   "metadata": {
    "toc": true
   },
   "source": [
    "<h1>Table of Contents<span class=\"tocSkip\"></span></h1>\n",
    "<div class=\"toc\"><ul class=\"toc-item\"><li><span><a href=\"#Instrument-level-JWST-queries\" data-toc-modified-id=\"Instrument-level-JWST-queries-1\"><span class=\"toc-item-num\">1&nbsp;&nbsp;</span>Instrument-level JWST queries</a></span></li><li><span><a href=\"#Query-executed-data-from-ERS-TEMPLATES-program\" data-toc-modified-id=\"Query-executed-data-from-ERS-TEMPLATES-program-2\"><span class=\"toc-item-num\">2&nbsp;&nbsp;</span>Query executed data from ERS-TEMPLATES program</a></span><ul class=\"toc-item\"><li><span><a href=\"#Parse-fields\" data-toc-modified-id=\"Parse-fields-2.1\"><span class=\"toc-item-num\">2.1&nbsp;&nbsp;</span>Parse fields</a></span></li><li><span><a href=\"#Split-into-our-own-&quot;associations&quot;-and-make-fancy-figures\" data-toc-modified-id=\"Split-into-our-own-&quot;associations&quot;-and-make-fancy-figures-2.2\"><span class=\"toc-item-num\">2.2&nbsp;&nbsp;</span>Split into our own \"associations\" and make fancy figures</a></span></li></ul></li></ul></div>"
   ]
  },
  {
   "cell_type": "markdown",
   "id": "fa3861c8",
   "metadata": {},
   "source": [
    "# Instrument-level JWST queries"
   ]
  },
  {
   "cell_type": "code",
   "execution_count": null,
   "id": "f1727f0e",
   "metadata": {},
   "outputs": [],
   "source": [
    "import numpy as np\n",
    "import astropy.units as u\n",
    "\n",
    "import mastquery\n",
    "from mastquery import overlaps, query, jwst\n",
    "import astropy.time\n",
    "\n",
    "import logging\n",
    "logging.basicConfig(level=logging.INFO,\n",
    "                    handlers=[logging.StreamHandler(),\n",
    "                              logging.FileHandler('/tmp/mastquery.log')], \n",
    "                    format = \"%(module)s.%(funcName)s : %(levelname)s : %(message)s\")\n",
    "\n",
    "print('mastquery version: ', mastquery.__version__, mastquery.__version_hash__)"
   ]
  },
  {
   "cell_type": "markdown",
   "id": "1e9cedbb",
   "metadata": {},
   "source": [
    "# Query executed data from ERS-TEMPLATES program\n",
    "\n",
    "ERS-1355\n"
   ]
  },
  {
   "cell_type": "code",
   "execution_count": null,
   "id": "c019d3d0",
   "metadata": {},
   "outputs": [],
   "source": [
    "filters = []\n",
    "\n",
    "# filter on program ID\n",
    "filters += jwst.make_program_filter([1355]) \n",
    "\n",
    "# cal and rate files\n",
    "filters += jwst.make_query_filter('productLevel', values=['2a','2b'])\n",
    "filters += jwst.make_query_filter('filename', text='%_[cr]a%[le].fits')\n",
    "\n",
    "# Just guided exposures\n",
    "filters += jwst.make_query_filter('pcs_mode', values=['FINEGUIDE'])\n",
    "\n",
    "# filters += jwst.make_query_filter('expstart', range=[59744.5, 59764.5])\n",
    "\n",
    "res = jwst.query_all_jwst(filters=filters, columns='*')"
   ]
  },
  {
   "cell_type": "markdown",
   "id": "42e21a4c",
   "metadata": {},
   "source": [
    "## Parse fields\n",
    "\n",
    "Define \"fields\" of groups of exposures that overlap."
   ]
  },
  {
   "cell_type": "code",
   "execution_count": null,
   "id": "3e829cec",
   "metadata": {},
   "outputs": [],
   "source": [
    "tabs = overlaps.find_overlaps(res, use_parent=True, buffer_arcmin=2.5, close=False)"
   ]
  },
  {
   "cell_type": "markdown",
   "id": "21aac597",
   "metadata": {},
   "source": [
    "## Split into our own \"associations\" and make fancy figures\n",
    "\n",
    "  1. Define associations by filter+pupile and NIRCam detector\n",
    "  2. Figure accounts for multiple NIRCam detectors"
   ]
  },
  {
   "cell_type": "code",
   "execution_count": null,
   "id": "6582dca2",
   "metadata": {},
   "outputs": [],
   "source": [
    "assoc_args = assoc_args={'max_pa': 2,\n",
    "                         'max_sep': 0.5,\n",
    "                         'max_time': 1.0,\n",
    "                         'match_filter': True,\n",
    "                         'match_instrument': True,\n",
    "                         'match_program': True,\n",
    "                         'hack_grism_pa': False,\n",
    "                         'parse_for_grisms': False, \n",
    "                         'match_detector':True}\n",
    "\n",
    "LS_ARGS = dict(pixscale=1,\n",
    "               layers=['ls-dr9', 'sdss', 'unwise-neo7'],\n",
    "               zorder=-1000,\n",
    "               alpha=0.8,\n",
    "               aspect='auto',\n",
    "               verbose=True,\n",
    "               grayscale=False,\n",
    "               grayscale_params=[99, 1.5, -0.02])\n",
    "\n",
    "for i, tab in enumerate(tabs[:]):\n",
    "    _ = overlaps.split_associations(tab, assoc_args=assoc_args, force_split=True,\n",
    "                                    with_ls_thumbnail=True, xsize=8, ls_args=LS_ARGS)\n",
    "    \n",
    "    _[1].savefig('{0}_footprint.png'.format(tab.meta['NAME']), dpi=150)\n",
    "    tab.write('{0}_footprint.fits'.format(tab.meta['NAME']), overwrite=True)\n",
    "    \n",
    "    print(i, tab.meta['NAME'], len(np.unique(tab['assoc_idx'])))"
   ]
  },
  {
   "cell_type": "code",
   "execution_count": null,
   "id": "b6d0aa14",
   "metadata": {},
   "outputs": [],
   "source": [
    "from grizli import utils\n",
    "tab = tabs[-1]\n",
    "assoc = utils.Unique(tab['assoc_idx'], verbose=False)\n",
    "for a in assoc.values:\n",
    "    print(f'\\n assoc_idx = {a}\\n================')\n",
    "    for row in tab[assoc[a]]:\n",
    "        print(f\"{row['filename']:50s} {row['detector']:10} {row['filter-pupil']:14} {row['exptime']:6.1f}  {row['targname']}\")"
   ]
  }
 ],
 "metadata": {
  "kernelspec": {
   "display_name": "Python 3 (ipykernel)",
   "language": "python",
   "name": "python3"
  },
  "language_info": {
   "codemirror_mode": {
    "name": "ipython",
    "version": 3
   },
   "file_extension": ".py",
   "mimetype": "text/x-python",
   "name": "python",
   "nbconvert_exporter": "python",
   "pygments_lexer": "ipython3",
   "version": "3.9.12"
  },
  "toc": {
   "base_numbering": 1,
   "nav_menu": {},
   "number_sections": true,
   "sideBar": true,
   "skip_h1_title": false,
   "title_cell": "Table of Contents",
   "title_sidebar": "Contents",
   "toc_cell": true,
   "toc_position": {},
   "toc_section_display": true,
   "toc_window_display": true
  }
 },
 "nbformat": 4,
 "nbformat_minor": 5
}
